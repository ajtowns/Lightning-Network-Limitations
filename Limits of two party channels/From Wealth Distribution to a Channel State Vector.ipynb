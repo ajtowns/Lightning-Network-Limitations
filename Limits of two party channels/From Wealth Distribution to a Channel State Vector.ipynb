{
 "cells": [
  {
   "cell_type": "markdown",
   "id": "6b35eeb1-8c90-4b50-9193-b27143c50c56",
   "metadata": {},
   "source": [
    "Between May 24th and May 28th [Anastasios (Tasos) Sidiropoulos](https://sidiropo.people.uic.edu/) provided several counter examples indicating that [our constraints for the the polytope of wealth distributions](https://github.com/renepickhardt/Lightning-Network-Limitations/blob/906b3a4d691cbfb30c2f385c6697b4fe2bb81676/Limits%20of%20two%20party%20channels/Geometric%20Argument%20for%20Bimodal%20Liquidity%20Distribution%20in%20Payment%20Channels%20of%20the%20Lightning%20Network.ipynb) are too weak. In particular he provided [a point in our polytope for which no feasible lighting network state existed](https://twitter.com/sidiropo/status/1795458687500239055)\n",
    "\n",
    "His example assumes the following network\n",
    "\n",
    "```\n",
    "(A)---2---(B)---2---(C)---2---(D)---2---(E)---2---(F)\n",
    "```\n",
    "where `A,B,C,F` hold `1` coin each and `D,E` hold `3`coins. \n",
    "\n",
    "one can easily check that $w_i+w_j>=c_{ij}$ and no user has more coins than total capacity of the neighboring channels. \n",
    "\n",
    "However no valid state for this network exists that produces this particular wealth distribution. This means our polytope of wealth distributions is too large and the formulation of inequalities cannot hold. \n",
    "\n",
    "## Smaller example\n",
    "\n",
    "The example of Sidiropoulos can actually be made smaller. Consider the following network: \n",
    "```\n",
    "(A)---2---(B)---2---(C)---2---(D)---2---(E)\n",
    "```\n",
    "where `A,B,C` hold `1` coin each and `D` holds `3` coins and `E` holds `2` coins. \n",
    "\n",
    "Again no network state exists that would produce this wealth distribution. \n",
    "\n",
    "## Goal of this notebook\n",
    "\n",
    "Leaving the [formulation of inequalities to describe the polytope of wealth distributions]((https://github.com/renepickhardt/Lightning-Network-Limitations/blob/906b3a4d691cbfb30c2f385c6697b4fe2bb81676/Limits%20of%20two%20party%20channels/Geometric%20Argument%20for%20Bimodal%20Liquidity%20Distribution%20in%20Payment%20Channels%20of%20the%20Lightning%20Network.ipynb)) and focussing on the polytope $S$ of channel states and the natural mapping from $\\omega: S\\rightarrow S/\\sim \\cong W$ one is interested if for $w\\in S/\\sim$ we can construct and element of $\\omega^{-1}(\\{w\\})$ (aka an element in the preimage of $w$)\n",
    "\n",
    "We claim that a preimage exists if the following system of linear equations has a non trivial solution. This can be tested by solving the linear program constructed and provided in this notebook. The system of linear equations is described in the code! but the gist is to have \n",
    "* $m$ constraints with conservation of liquidity in channels\n",
    "* $n$ constraints relating to the wealth distribution of $n$ peers\n",
    "* $1$ constraint relating to the total number of coins\n",
    "* $2m$ variables encoding the wealth of each user in the channel (this can probably be reduced to $m$ variables)\n",
    "\n",
    "## Some numbers about constraints and variables\n",
    "\n",
    "* $m$ number of edges\n",
    "* $2m$ variables ($2$ for each channel) aka number of collums\n",
    "* $n$ number of nodes\n",
    "* $m+n+1$ constraints aka number of rows\n",
    "    * $m$ constraints for each channel\n",
    "    * $n$ contraints as the wealth for each node\n",
    "    * $1$ constraint as the number of coins is fixed\n",
    "* $2m+1$ bounds actually $m$ bounds but each is twice and 1 bound for total number of coins\n",
    "\n",
    "## Acknowledgements\n",
    "\n",
    "Obviously a big thanks goes to [Anastasios (Tasos) Sidiropoulos](https://sidiropo.people.uic.edu/) for the initial counter example and the discussion on twitter. Also to Stefan Richter for putting out the hypothesis in the thread that a cycle base would be sufficient to test for conservation of liquidity. The work is sponsored through a [grant from OpenSats](https://opensats.org/blog/rene-pickhardt-receives-lts-grant) and through [individual patreons](https://www.patreon.com/renepickhardt)."
   ]
  },
  {
   "cell_type": "code",
   "execution_count": 1,
   "id": "4370a987-36e8-41c7-bb76-e16eb2ce5a4f",
   "metadata": {},
   "outputs": [],
   "source": [
    "from scipy.optimize import linprog\n"
   ]
  },
  {
   "cell_type": "markdown",
   "id": "15c7cb15-a7af-42f2-bbca-a45224b02e35",
   "metadata": {},
   "source": [
    "Create channels and wealth distribution according to the modified counter example from Sidiropoulos"
   ]
  },
  {
   "cell_type": "code",
   "execution_count": 2,
   "id": "975b938b-41c0-40b1-93bc-19734f886b72",
   "metadata": {},
   "outputs": [],
   "source": [
    "channels = {(0,1):2, (1,2):2, (2,3):2, (3,4):2}\n",
    "wealth = {0:1,1:1,2:1,3:3,4:2}\n",
    "# Comment in the following to have a feasible wealth distribution\n",
    "#wealth = {0:1,1:2,2:1,3:2,4:2}"
   ]
  },
  {
   "cell_type": "markdown",
   "id": "983529cf-308b-4913-a0e4-fcf77c8666ce",
   "metadata": {},
   "source": [
    "Ad-hoc test to see that the original wealth polytope inequalities are held in this counterexample"
   ]
  },
  {
   "cell_type": "code",
   "execution_count": 3,
   "id": "1de3a79f-5e87-4870-8bb4-30a43d346815",
   "metadata": {},
   "outputs": [
    {
     "name": "stdout",
     "output_type": "stream",
     "text": [
      "polytope inequalities satisfied\n"
     ]
    }
   ],
   "source": [
    "flag = True\n",
    "for chan, cap in channels.items():\n",
    "    s,d = chan\n",
    "    if wealth[s]+wealth[d] < cap:\n",
    "        print(\"no\")\n",
    "        flag = False\n",
    "for u,w in wealth.items():\n",
    "    if u == 0 or u == 4:\n",
    "        if w > 2:\n",
    "            print(\"no\")\n",
    "            flag = False\n",
    "\n",
    "    else:\n",
    "        if w > 4:\n",
    "            print(\"no\") \n",
    "            flag = False\n",
    "\n",
    "if flag:\n",
    "    print(\"polytope inequalities satisfied\")"
   ]
  },
  {
   "cell_type": "markdown",
   "id": "98f53436-db63-4fca-9577-7838d336d5ad",
   "metadata": {},
   "source": [
    "Construction of the system of linear equations and the corresponding linear program that must be feasible in order for a lighting network channel state to exist that produces the wealth distribution. \n",
    "\n",
    "a feasible solution means that we have a non trivial preimage for a given wealth distribution"
   ]
  },
  {
   "cell_type": "code",
   "execution_count": 4,
   "id": "677aa822-5456-439e-8c98-7f954ab1d3cc",
   "metadata": {},
   "outputs": [
    {
     "data": {
      "text/plain": [
       "([[1, 1, 0, 0, 0, 0, 0, 0],\n",
       "  [0, 0, 1, 1, 0, 0, 0, 0],\n",
       "  [0, 0, 0, 0, 1, 1, 0, 0],\n",
       "  [0, 0, 0, 0, 0, 0, 1, 1],\n",
       "  [1, 0, 0, 0, 0, 0, 0, 0],\n",
       "  [0, 1, 1, 0, 0, 0, 0, 0],\n",
       "  [0, 0, 0, 1, 1, 0, 0, 0],\n",
       "  [0, 0, 0, 0, 0, 1, 1, 0],\n",
       "  [0, 0, 0, 0, 0, 0, 0, 1],\n",
       "  [1, 1, 1, 1, 1, 1, 1, 1]],\n",
       " [2, 2, 2, 2, 1, 1, 1, 3, 2, 8],\n",
       " [(0, 2), (0, 2), (0, 2), (0, 2), (0, 2), (0, 2), (0, 2), (0, 2)])"
      ]
     },
     "execution_count": 4,
     "metadata": {},
     "output_type": "execute_result"
    }
   ],
   "source": [
    "num_coins = sum(channels.values())\n",
    "m = len(channels)\n",
    "n = len(wealth)\n",
    "\n",
    "channel_idx = {}\n",
    "A = []\n",
    "b = []\n",
    "\n",
    "wealth_constraints = []\n",
    "for i in range(n):\n",
    "    row = [0]*2*m\n",
    "    wealth_constraints.append(row)\n",
    "\n",
    "bounds = []\n",
    "for k, chan in enumerate(channels.items()):\n",
    "    row = [0]*2*m\n",
    "    row[2*k]=1\n",
    "    row[2*k+1]=1\n",
    "    A.append(row)\n",
    "    key,cap = chan\n",
    "    #add bounds of channel twice as each channel adds two variables\n",
    "    bounds.append((0,cap))\n",
    "    bounds.append((0,cap))\n",
    "\n",
    "    x,y = key\n",
    "    channel_idx[2*k]=key\n",
    "    channel_idx[2*k+1]=(y,x)\n",
    "    \n",
    "    wealth_constraints[x][2*k]=1\n",
    "    wealth_constraints[y][2*k+1]=1\n",
    "    b.append(cap)\n",
    "for k, row in enumerate(wealth_constraints):\n",
    "    A.append(row)\n",
    "    b.append(wealth[k])\n",
    "A.append([1]*2*m)\n",
    "num_coins=sum(wealth.values())\n",
    "b.append(num_coins)\n",
    "\n",
    "c = [1]*2*m\n",
    "\n",
    "A,b,bounds"
   ]
  },
  {
   "cell_type": "code",
   "execution_count": 5,
   "id": "49ea316f-7d12-4584-a765-4356cc27880f",
   "metadata": {},
   "outputs": [
    {
     "name": "stdout",
     "output_type": "stream",
     "text": [
      "The wealth distribution {0: 1, 1: 1, 2: 1, 3: 3, 4: 2} is infeasible for the network {(0, 1): 2, (1, 2): 2, (2, 3): 2, (3, 4): 2}\n"
     ]
    }
   ],
   "source": [
    "res = linprog(c, A_eq=A, b_eq=b, bounds=bounds)\n",
    "if res.success == True:\n",
    "    print(\"this state vector satisfies the wealth distribution\")\n",
    "    for i,x in enumerate(res.x):\n",
    "        print(channel_idx[i], x)\n",
    "else:\n",
    "    print(\"The wealth distribution {} is infeasible for the network {}\".format(wealth, channels))"
   ]
  },
  {
   "cell_type": "markdown",
   "id": "e6b4fd64-89c3-4c43-afbb-bf0b77223397",
   "metadata": {},
   "source": [
    "## Old example to play around and test the API"
   ]
  },
  {
   "cell_type": "code",
   "execution_count": 6,
   "id": "e6d075c0-84bb-4a5f-8dc3-bdbe4dfc6644",
   "metadata": {},
   "outputs": [
    {
     "name": "stdout",
     "output_type": "stream",
     "text": [
      "this state vector satisfies the wealth distribution\n",
      "A,B 1.0\n",
      "B,A 1.0\n",
      "A,C 2.0\n",
      "C,A 0.0\n",
      "B,C 4.0\n",
      "C,B 7.0\n"
     ]
    }
   ],
   "source": [
    "num_coins = 15\n",
    "c = [1, 1, 1, 1, 1, 1]\n",
    "dimensions = \"A,B B,A A,C C,A B,C C,B\".split(\" \")\n",
    "##### AB BA AC CA BC CB\n",
    "    #### channel constraints\n",
    "A = [[1,1,0,0,0,0], #AB + BA = cap \n",
    "     [0,0,1,1,0,0], #AC + CA = cap\n",
    "     [0,0,0,0,1,1], #BC + CB = cap\n",
    "     ###### wealth equations\n",
    "     [1,0,1,0,0,0], #AB + AC = W_A\n",
    "     [0,1,0,0,1,0], #BA + BC = W_B\n",
    "     [0,0,0,1,0,1], #CA + CB = W_C\n",
    "     [1,1,1,1,1,1]] # sum wealth = #coins\n",
    "b = [2, 2, 11, 3, 5, 7, num_coins]\n",
    "bounds = (0, num_coins)\n",
    "res = linprog(c, A_eq=A, b_eq=b, bounds=[bounds for i in range(6)])\n",
    "if res.success == True:\n",
    "    print(\"this state vector satisfies the wealth distribution\")\n",
    "    for i,x in enumerate(res.x):\n",
    "        print(dimensions[i], x)\n",
    "\n"
   ]
  }
 ],
 "metadata": {
  "kernelspec": {
   "display_name": "Python 3 (ipykernel)",
   "language": "python",
   "name": "python3"
  },
  "language_info": {
   "codemirror_mode": {
    "name": "ipython",
    "version": 3
   },
   "file_extension": ".py",
   "mimetype": "text/x-python",
   "name": "python",
   "nbconvert_exporter": "python",
   "pygments_lexer": "ipython3",
   "version": "3.11.7"
  }
 },
 "nbformat": 4,
 "nbformat_minor": 5
}
